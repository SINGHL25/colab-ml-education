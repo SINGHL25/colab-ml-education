
{
 "cells": [
  {"cell_type":"markdown","metadata":{},"source":["# 01 - Colab Setup\nInstall deps and verify environment."]},
  {"cell_type":"code","metadata":{},"source":["!pip -q install numpy pandas matplotlib scikit-learn tensorflow torch torchvision torchaudio pytest"],"execution_count":null,"outputs":[]},
  {"cell_type":"code","metadata":{},"source":["import sys, platform\nimport numpy as np, pandas as pd, matplotlib\nprint('Python:', sys.version)\nprint('Platform:', platform.platform())\nprint('NumPy:', np.__version__)\nprint('Pandas:', pd.__version__)\nprint('Matplotlib:', matplotlib.__version__)"],"execution_count":null,"outputs":[]},
  {"cell_type":"markdown","metadata":{},"source":["## (Optional) Mount Google Drive"]},
  {"cell_type":"code","metadata":{},"source":["# from google.colab import drive\n# drive.mount('/content/drive')"],"execution_count":null,"outputs":[]}
 ],
 "metadata": {"colab":{"name":"01_colab_setup.ipynb"},"kernelspec":{"name":"python3","language":"python","display_name":"Python 3"}},
 "nbformat":4,"nbformat_minor":5
}
