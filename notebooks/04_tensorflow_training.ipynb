{
 "cells":[
  {"cell_type":"markdown","metadata":{},"source":["# 04 - TensorFlow Training (Iris)"]},
  {"cell_type":"code","metadata":{},"source":["from src.tf_demo import train_iris\nmodel, acc, hist = train_iris(epochs=5, verbose=0)\nprint('TF Test Accuracy:', round(acc, 4))"],"execution_count":null,"outputs":[]}
 ],
 "metadata":{"colab":{"name":"04_tensorflow_training.ipynb"},"kernelspec":{"name":"python3","language":"python","display_name":"Python 3"}},
 "nbformat":4,"nbformat_minor":5
}
