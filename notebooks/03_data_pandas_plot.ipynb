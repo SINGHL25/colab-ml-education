{
 "cells":[
  {"cell_type":"markdown","metadata":{},"source":["# 03 - Data, Pandas & Plot"]},
  {"cell_type":"code","metadata":{},"source":["import pandas as pd, matplotlib.pyplot as plt\nimport os\npath = 'examples/data/sample.csv'\ndf = pd.read_csv(path)\ndf.head()"],"execution_count":null,"outputs":[]},
  {"cell_type":"code","metadata":{},"source":["# Plot and save to results\nos.makedirs('results/plots', exist_ok=True)\ndf.groupby('category')['value'].mean().plot(kind='bar', title='Mean value by category')\nplt.tight_layout()\nplt.savefig('results/plots/sample_mean.png')\nprint('Saved plot to results/plots/sample_mean.png')"],"execution_count":null,"outputs":[]}
 ],
 "metadata":{"colab":{"name":"03_data_pandas_plot.ipynb"},"kernelspec":{"name":"python3","language":"python","display_name":"Python 3"}},
 "nbformat":4,"nbformat_minor":5
}
