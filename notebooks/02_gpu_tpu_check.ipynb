{
 "cells":[
  {"cell_type":"markdown","metadata":{},"source":["# 02 - GPU/TPU Check"]},
  {"cell_type":"code","metadata":{},"source":["import torch, tensorflow as tf\nprint('Torch CUDA available:', torch.cuda.is_available())\nprint('TF GPUs:', tf.config.list_physical_devices('GPU'))"],"execution_count":null,"outputs":[]},
  {"cell_type":"code","metadata":{},"source":["# TPU (if enabled in runtime)\ntry:\n  resolver = tf.distribute.cluster_resolver.TPUClusterResolver.connect()\n  print('TPU connected:', resolver.cluster_spec().as_dict().keys())\nexcept Exception as e:\n  print('TPU not available:', e)"],"execution_count":null,"outputs":[]}
 ],
 "metadata":{"colab":{"name":"02_gpu_tpu_check.ipynb"},"kernelspec":{"name":"python3","language":"python","display_name":"Python 3"}},
 "nbformat":4,"nbformat_minor":5
}
