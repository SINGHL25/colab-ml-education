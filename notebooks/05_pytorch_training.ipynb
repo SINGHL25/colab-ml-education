{
 "cells":[
  {"cell_type":"markdown","metadata":{},"source":["# 05 - PyTorch Training (Iris)"]},
  {"cell_type":"code","metadata":{},"source":["from src.torch_demo import train_iris\nmodel, acc = train_iris(epochs=15)\nprint('Torch Test Accuracy:', round(acc, 4))"],"execution_count":null,"outputs":[]}
 ],
 "metadata":{"colab":{"name":"05_pytorch_training.ipynb"},"kernelspec":{"name":"python3","language":"python","display_name":"Python 3"}},
 "nbformat":4,"nbformat_minor":5
}
