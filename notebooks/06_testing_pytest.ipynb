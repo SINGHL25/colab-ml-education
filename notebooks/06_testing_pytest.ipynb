{
 "cells":[
  {"cell_type":"markdown","metadata":{},"source":["# 06 - Run pytest in Colab"]},
  {"cell_type":"code","metadata":{},"source":["!pytest -q"],"execution_count":null,"outputs":[]}
 ],
 "metadata":{"colab":{"name":"06_testing_pytest.ipynb"},"kernelspec":{"name":"python3","language":"python","display_name":"Python 3"}},
 "nbformat":4,"nbformat_minor":5
}
